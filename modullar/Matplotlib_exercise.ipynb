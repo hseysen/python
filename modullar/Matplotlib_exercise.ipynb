{
 "cells": [
  {
   "cell_type": "markdown",
   "metadata": {},
   "source": [
    "# Matplotlib modülünə aid çalışmalar."
   ]
  },
  {
   "cell_type": "code",
   "execution_count": null,
   "metadata": {},
   "outputs": [],
   "source": [
    "from matplotlib import pyplot as plt\n",
    "import numpy as np\n",
    "%matplotlib inline"
   ]
  },
  {
   "cell_type": "markdown",
   "metadata": {},
   "source": [
    "## 1. Funksiyaların qrafiklərini çəkin.\n",
    "\n",
    "Aşağıda sadalanan hər bir funksiya üçün əvvəlcə **lambda funksiya** düzəldin, və daha sonra **xs** arrayini bu funksiyalardan keçirməklə **y** qiymətlərini alın. Nəticə arrayləri müvafiq olaraq $y_n = f_n(xs)$ qaydasına uyğun adlandırın.\n",
    "\n",
    "Figure obyektini 16:9 ölçülərində və çap keyfiyyətində yaradın. Bütün qrafikləri eyni Ax obyektində göstərin. Mətnlərin oxunabilməsi üçün font ölçülərini artırın. Qrafiklərə uyğun legend hazırlayın. Hər bir funksiyanın qrafiki biri-birindən fərqləndirilməsi üçün başqa-başqa *hex kodlu* rənglərdə olmalıdır. X və Y oxlarının və qrafikin adını yazın.\n",
    "\n",
    "\n",
    "Funksiyalar:\n",
    "1. $y = x^2 + e^\\sqrt{|x|}$  \n",
    "2. $y = \\displaystyle\\frac{7 * x^2}{1 - 2 e^x}$  \n",
    "3. $y = x^2 - 5x + ln(x^2 + 1)$"
   ]
  },
  {
   "cell_type": "code",
   "execution_count": null,
   "metadata": {},
   "outputs": [],
   "source": [
    "xs = np.linspace(-10, 10, 500)\n",
    "\n",
    "# Kod"
   ]
  },
  {
   "cell_type": "markdown",
   "metadata": {},
   "source": [
    "## 2. Verilmiş iki funksiyanın qrafiki arasında qalan hissəni rəngləyin.\n",
    "\n",
    "Qeyd: Bunun üçün əvvəlcə **fill_between** methodunu araşdırın.\n",
    "\n",
    "Hər bir bənddə iki funksiya göstərilib. Bu funksiyaların qrafiklərinin arasında qalan hissəni rəngləyin. Hər bir bəndi ayrı bir subplotda göstərin. Başlanğıc üçün figure və axes obyektləri aşağıda verilib. Hər bir qrafikin x və y oxlarına ad verin, qrafiklərə başlıq olaraq qısa məlumat verin.\n",
    "\n",
    "1. $f_1 = x^3 - 10x^2 + 7x$ və $f_2 = 4x^3 + 3x^2 - 5x$\n",
    "2. $f_1 = \\sqrt{|x| + 5}$ və $f_2 = log(|x| + 5)$\n",
    "3. $f_1 = x^2$ və $f_2 = 50x * log(|x|)$"
   ]
  },
  {
   "cell_type": "code",
   "execution_count": null,
   "metadata": {},
   "outputs": [],
   "source": [
    "xs = np.linspace(-100, 100, 200)\n",
    "\n",
    "fig, axes = plt.subplots(1, 3, figsize=(16, 5))"
   ]
  }
 ],
 "metadata": {
  "kernelspec": {
   "display_name": "Python 3",
   "language": "python",
   "name": "python3"
  },
  "language_info": {
   "codemirror_mode": {
    "name": "ipython",
    "version": 3
   },
   "file_extension": ".py",
   "mimetype": "text/x-python",
   "name": "python",
   "nbconvert_exporter": "python",
   "pygments_lexer": "ipython3",
   "version": "3.7.6"
  }
 },
 "nbformat": 4,
 "nbformat_minor": 4
}
