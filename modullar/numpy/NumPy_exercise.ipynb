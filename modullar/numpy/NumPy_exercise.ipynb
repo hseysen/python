{
 "cells": [
  {
   "cell_type": "markdown",
   "metadata": {},
   "source": [
    "# NumPy moduluna aid çalışmalar."
   ]
  },
  {
   "cell_type": "code",
   "execution_count": null,
   "metadata": {},
   "outputs": [],
   "source": [
    "import numpy as np"
   ]
  },
  {
   "cell_type": "markdown",
   "metadata": {},
   "source": [
    "## 1. Aşağıda göstərilmiş 3 arrayı NumPy funksiyalarından istifadə etməklə almağa çalışın."
   ]
  },
  {
   "cell_type": "code",
   "execution_count": null,
   "metadata": {},
   "outputs": [],
   "source": [
    "xs1 = np.array([[0, 0, 0, 0, 0, 0], [0, 1, 1, 1, 1, 0], [0, 1, 5, 5, 1, 0], [0, 1, 5, 5, 1, 0], [0, 1, 1, 1, 1, 0], [0, 0, 0, 0, 0, 0]], dtype=np.int8)\n",
    "xs2 = np.array([[1, 0, 0, 5, 5], [0, -1, -1, -1, 5], [0, -1, -1, -1, 5], [7, -1, -1, -1, 0], [7, 7, 7, 0, 1]], dtype=np.int8)\n",
    "xs3 = np.array([10, 20, 30,  8, 10], dtype=np.int8)\n",
    "\n",
    "print(\"Array 1:\")\n",
    "print(xs1)\n",
    "print()\n",
    "\n",
    "print(\"Array 2:\")\n",
    "print(xs2)\n",
    "print()\n",
    "\n",
    "print(\"Array 3:\")\n",
    "print(xs3)\n",
    "print()"
   ]
  },
  {
   "cell_type": "code",
   "execution_count": null,
   "metadata": {},
   "outputs": [],
   "source": [
    "# Kod"
   ]
  },
  {
   "cell_type": "markdown",
   "metadata": {},
   "source": [
    "## 2. Array əməliyyatları.\n",
    "\n",
    "Tamamilə ixtiyari tam ədədlərdən ibarət bir array verilir. Bu arrayin üzərində aşağıdakı əməliyyatları yerinə yetirin:\n",
    "1. Arraydəki bütün mənfi ədədləri mütləq qiymətlərinin yarısı ilə əvəz edin. ( tam bölmə )\n",
    "2. Arrayin bütün tək elementlərini 3ə vurun.\n",
    "3. Arrayin bütün cüt elementlərini kvadrata yüksəldin.\n",
    "4. Arraydəki bütün elementləri arrayin minimum elementinin indeksinə vurun, maksimum elementinin indeksinə bölün. ( tam bölmə )\n",
    "5. Arrayin elementlərinin cəmini arrayin uzunluğuna bölün ( normal bölmə ), və alınan nəticədən kiçik olan ədədləri -2yə bölün. ( tam bölmə )\n",
    "6. Arrayin bütün elementlərini toplayın.\n",
    "\n",
    "Əgər düz etsəniz nəticə 391639 alınmalıdır."
   ]
  },
  {
   "cell_type": "code",
   "execution_count": null,
   "metadata": {},
   "outputs": [],
   "source": [
    "xs = np.array([572, -25, 251, -521, 678, 472, 972,\n",
    "               759, 221, -202, 446, 972, 200, 103,\n",
    "               -99, -2001, 201, 956, 753, 22, 213,\n",
    "               852, 210, 315, 112, 956, 336, 943])"
   ]
  },
  {
   "cell_type": "markdown",
   "metadata": {},
   "source": [
    "## 3. Kiçik tapşırıqlar."
   ]
  },
  {
   "cell_type": "markdown",
   "metadata": {},
   "source": [
    "**1)** Təsəvvür edin ki, şahmat taxtasını array ilə göstərmək istəyirsiniz. Ağ xanalara 0, qara xanalara isə 1 yazmaq sizə kifayət edəcək. Bu arrayi düzəldən kodu yazın."
   ]
  },
  {
   "cell_type": "code",
   "execution_count": null,
   "metadata": {},
   "outputs": [],
   "source": [
    "# Kod"
   ]
  },
  {
   "cell_type": "markdown",
   "metadata": {},
   "source": [
    "**2)** Elə bir funksiya yazın ki, parametr olaraq $n$ götürsün və nəticə olaraq ekrana $n$ array çap etsin. Bütün arrayləri $A_n$ ilə işarə edək. Hər bir $A_i$ $(0 <= i < n)$ arrayin elementləri $k$ bu bərabərsizliyi ödəyən tam ədədlər olmalıdır: $2^i <= k < 2^{i+1}$\n",
    "\n",
    "Məsələn, create_array(3) funksiyası çağırıldıqda nəticə belə olmalıdır:\n",
    ">[1]  \n",
    ">[2 3]  \n",
    ">[4 5 6 7]  "
   ]
  },
  {
   "cell_type": "code",
   "execution_count": null,
   "metadata": {},
   "outputs": [],
   "source": [
    "def create_array(n):\n",
    "    # Kod\n",
    "    pass"
   ]
  },
  {
   "cell_type": "markdown",
   "metadata": {},
   "source": [
    "**3)** 1 və 100 arası 3-ə tam bölünən, 5-ə böldükdə qalıqda 1 alınan cüt ədədlərdən ibarət array yaradın."
   ]
  },
  {
   "cell_type": "code",
   "execution_count": null,
   "metadata": {},
   "outputs": [],
   "source": [
    "# Kod"
   ]
  },
  {
   "cell_type": "markdown",
   "metadata": {},
   "source": [
    "**4)** Elə bir funksiya yazın ki, verilmiş $n * n$ matriksin hər iki diaqonalını sıfırlayıb, arrayi return etsin."
   ]
  },
  {
   "cell_type": "code",
   "execution_count": null,
   "metadata": {},
   "outputs": [],
   "source": [
    "def zero_diagonals(arr):\n",
    "    if arr.ndim != 2:\n",
    "        raise ValueError(\"Yalnız ikiölçülü matrikslərə icazə var.\")\n",
    "    \n",
    "    if arr.shape[0] != arr.shape[1]:\n",
    "        raise ValueError(\"Yalnız n * n ölçülü matrikslərə icazə var.\")\n",
    "    \n",
    "    # Kod\n",
    "    return arr"
   ]
  },
  {
   "cell_type": "markdown",
   "metadata": {},
   "source": [
    "## 4. BMI (Body Mass Index) məsələsi\n",
    "\n",
    "Sizə aşağıda üç array verilib. İlk arraydə insan adları, ikinci arraydə həmin insanların çəkiləri, üçüncü arraydə isə həmin insanların boyları göstərilib. Hər bir şəxs üçün aşağıdakı düstura əsasən **bmi** hesablayın:\n",
    "\n",
    "> $bmi = \\displaystyle\\frac{weight}{{height}^2}$\n",
    "\n",
    "Aşağıda müxtəlif **bmi** qiymətlərinin mənaları göstərilib:\n",
    "* Əgər **bmi** > 25 olarsa, bu insan **artıq çəkili**dir.\n",
    "* Əgər **bmi** < 18.5 olarsa, bu insan **aşağı çəkili**dir.\n",
    "* Əgər 18.5 <= **bmi** <= 25 olarsa, bu insan **sağlam çəkili**dir.\n",
    "\n",
    "Bu şərtlərə və məlumatlara əsasən verilmiş şəxsləri 3 kateqoriyaya ayırıb ekrana çap edin."
   ]
  },
  {
   "cell_type": "code",
   "execution_count": null,
   "metadata": {},
   "outputs": [],
   "source": [
    "names = np.array([\"John\", \"Alice\", \"Lewis\", \"Mark\", \"Jack\", \"Geralt\", \"Oliver\", \"Caroline\", \"Jade\", \"Eveline\", \"Samuel\", \"Hanzo\"])\n",
    "weights = np.array([76, 59, 42, 94, 65, 70, 55, 78, 83, 53, 67, 65])\n",
    "heights = np.array([1.72, 1.83, 1.65, 1.57, 1.86, 1.92, 1.53, 1.75, 1.67, 1.74, 1.62, 1.81])\n",
    "\n",
    "# Kod"
   ]
  }
 ],
 "metadata": {
  "kernelspec": {
   "display_name": "Python 3",
   "language": "python",
   "name": "python3"
  },
  "language_info": {
   "codemirror_mode": {
    "name": "ipython",
    "version": 3
   },
   "file_extension": ".py",
   "mimetype": "text/x-python",
   "name": "python",
   "nbconvert_exporter": "python",
   "pygments_lexer": "ipython3",
   "version": "3.7.6"
  }
 },
 "nbformat": 4,
 "nbformat_minor": 4
}
