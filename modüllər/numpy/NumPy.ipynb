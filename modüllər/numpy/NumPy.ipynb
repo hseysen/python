{
 "cells": [
  {
   "cell_type": "markdown",
   "metadata": {},
   "source": [
    "# NumPy modulu\n",
    "## Import\n",
    "NumPy modulundan istifadə edə bilmək üçün, təbii ki, əvvəlcə onu import etmək lazımdı. Kodu daha səliqəli saxlamaq və başqa modullarda mövcud ola biləcək funskiyalar və classlarla toqquşma yaratmamaq üçün **\"from numpy import \\*\"** import sətri əksər proqramçı tərəfindən istifadə edilmir. NumPy modulunun ən çox yayılmış qısaltması \"np\"dir, və əksər kod mənbələrində NumPy modulunun **np** olaraq import edildiyini görəcəksiniz."
   ]
  },
  {
   "cell_type": "code",
   "execution_count": 1,
   "metadata": {},
   "outputs": [],
   "source": [
    "import numpy as np"
   ]
  },
  {
   "cell_type": "markdown",
   "metadata": {},
   "source": [
    "#### Qeyd: Burada yazılan konseptləri tam anlamaq üçün Python proqramlaşdırma dili haqqında fundamental biliyinizin olması şərtdir."
   ]
  },
  {
   "cell_type": "markdown",
   "metadata": {},
   "source": [
    "## Giriş\n",
    "\n",
    "NumPy modulu haqqında öyrənməyimizin əsas səbəbi bu modulun bizə verdiyi \"numpy arrayi\"nin Pythonda default mövcud olan listlərdən daha sürətli və əlverişli olmasıdı. Buna görə də, ilk öncə bir \"numpy arrayi\"nin necə yaradılmasını öyrənməliyik."
   ]
  },
  {
   "cell_type": "code",
   "execution_count": 2,
   "metadata": {},
   "outputs": [
    {
     "data": {
      "text/plain": [
       "array([1, 2, 3])"
      ]
     },
     "execution_count": 2,
     "metadata": {},
     "output_type": "execute_result"
    }
   ],
   "source": [
    "xs = np.array([1, 2, 3])\n",
    "xs"
   ]
  },
  {
   "cell_type": "markdown",
   "metadata": {},
   "source": [
    "Gördüyünüz kimi, NumPy arrayi yaratmaq çox sadədi - biz sadəcə **np.array** funksiyasından istifadə etdik, və ora parametr olaraq NumPy arrayinə çevirmək istədiyimiz listi yazdıq. Biz həmçinin ikiölçülü, üçölçülü, ... n-ölçülü arraylər də yarada bilərik."
   ]
  },
  {
   "cell_type": "code",
   "execution_count": 3,
   "metadata": {},
   "outputs": [
    {
     "data": {
      "text/plain": [
       "array([[1, 2, 3],\n",
       "       [4, 5, 6],\n",
       "       [7, 8, 9]])"
      ]
     },
     "execution_count": 3,
     "metadata": {},
     "output_type": "execute_result"
    }
   ],
   "source": [
    "xs = np.array([[1, 2, 3],\n",
    "               [4, 5, 6],\n",
    "               [7, 8, 9]])\n",
    "xs"
   ]
  },
  {
   "cell_type": "markdown",
   "metadata": {},
   "source": [
    "Burada bir məqamı qeyd etmək lazımdı. Ən sadə nümunə olaraq aşağıdakı kodu götürək. Əgər ikiölçülü arrayi təşkil edən arraylərin uzunluqları biri-birinə bərabər olmazsa, onda **np.array** funksiyası bizim ikiölçülü arrayimizi təşkil edən arrayləri **list object** olaraq görəcək. Bu heç də xoşagələn bir hal deyil, ona görə ki, biz bu zaman NumPy modulunun bizə arraylər üzərindən verdiyi üstünlüklərdən tam istifadə edə bilmirik.\n",
    "\n",
    "Qeyd: Təbii ki, bu hal sadəcə ikiölçülü arraylərə deyil, üçölçülü, dördölçülü, ... n-ölçülü arraylərə də şamil olunur."
   ]
  },
  {
   "cell_type": "code",
   "execution_count": 4,
   "metadata": {},
   "outputs": [
    {
     "data": {
      "text/plain": [
       "array([list([1, 2, 3]), list([4, 5, 6]), list([7, 8])], dtype=object)"
      ]
     },
     "execution_count": 4,
     "metadata": {},
     "output_type": "execute_result"
    }
   ],
   "source": [
    "xs = np.array([[1, 2, 3],\n",
    "               [4, 5, 6],\n",
    "               [7, 8]])\n",
    "xs"
   ]
  },
  {
   "cell_type": "markdown",
   "metadata": {},
   "source": [
    "Və görürsünüz ki, **array** obyektimiz 3 ədəd **list** obyektindən ibarətdi. Bundan əlavə sətrin sonunda **dtype=object** yazıldığını görürük. Biz NumPy arrayi yaradarkən onun data tipini də qeyd edə bilirik, və bunu etmək üçün **np.array** funksiyasına keyword-argument olaraq **dtype** parametri yaza bilərik. Məsələn, deyək ki, biz arrayimizdə kiçik tam ədədlər saxlayacağımızı bilirik, və ona görə də **int8** data tipini (yəni 8 bitdən ibarət olan tam ədədlər) istifadə etmək istəyərik. Bu zaman arrayi belə yaradarıq:"
   ]
  },
  {
   "cell_type": "code",
   "execution_count": 5,
   "metadata": {},
   "outputs": [
    {
     "data": {
      "text/plain": [
       "array([1, 2, 3], dtype=int8)"
      ]
     },
     "execution_count": 5,
     "metadata": {},
     "output_type": "execute_result"
    }
   ],
   "source": [
    "xs = np.array([1, 2, 3], dtype=np.int8)\n",
    "xs"
   ]
  },
  {
   "cell_type": "markdown",
   "metadata": {},
   "source": [
    "Array yaradıldıqdan sonra onun haqqında bəzi məlumatlara nəzər salmaq mümkündü. Məsələn, arrayin neçə ölçülü olması, ölçüləri, data tipi və array elementlərinin baytlarla ölçüsü. Gəlin bunları iki fərqli nümunədə gözdən keçirək. İlk nümunə:"
   ]
  },
  {
   "cell_type": "code",
   "execution_count": 6,
   "metadata": {},
   "outputs": [
    {
     "name": "stdout",
     "output_type": "stream",
     "text": [
      "Info:\n",
      "Array neçə ölçülüdür? \t\t\t\t\t\t\t|  2\n",
      "Arrayin ölçüləri nədir? \t\t\t\t\t\t|  (4, 3)\n",
      "Arrayin elementləri hansı məlumat tipindədir? \t\t\t\t|  int16\n",
      "Arrayin elementlərinin hər biri yaddaşda neçə bayt yer tutur? \t\t|  2\n"
     ]
    }
   ],
   "source": [
    "xs = np.array([[1, 2, 3],\n",
    "               [4, 5, 6],\n",
    "               [7, 8, 9],\n",
    "               [0, 1, 2]], dtype=np.int16)\n",
    "\n",
    "print(\"Info:\")\n",
    "print(\"Array neçə ölçülüdür? \\t\\t\\t\\t\\t\\t\\t| \", xs.ndim)\n",
    "print(\"Arrayin ölçüləri nədir? \\t\\t\\t\\t\\t\\t| \", xs.shape)\n",
    "print(\"Arrayin elementləri hansı məlumat tipindədir? \\t\\t\\t\\t| \", xs.dtype)\n",
    "print(\"Arrayin elementlərinin hər biri yaddaşda neçə bayt yer tutur? \\t\\t| \", xs.itemsize)"
   ]
  },
  {
   "cell_type": "markdown",
   "metadata": {},
   "source": [
    "#### İzah:\n",
    "1. İlk sual (xs.ndim) bizə arrayimizin neçə ölçülü olduğunu deyir. Array ona görə ikiölçülüdür ki, bizim hər bir elementimiz iki arrayin içində yerləşir. Məsələn, 4 rəqəmi, eyni zamanda həm **[4, 5, 6]**, həm də **[[1, 2, 3], [4, 5, 6], [7, 8, 9], [0, 1, 2]]** arrayinin içindədir.\n",
    "2. İkinci sual (xs.shape) bizə arrayin ölçülərini bildirir. Arrayimiz ikiölçülü olduğu üçün, arrayimizin ölçüləri iki elementdən ibarət bir tuple-dır. Arrayin ölçüləri hesablanarkən xaricdən daxilə doğru hesablanır. Yəni, əvvəlcə ən xaricdəki array olan **[[1, 2, 3], [4, 5, 6], [7, 8, 9], [0, 1, 2]]** arrayinə baxılır. Bu array 4 individual arraydən ibarətdir. Həmçinin bu individual arraylərin hər biri 3 elementdən ibarətdir. Buna görə də, bizim arrayimizin ölçüləri **(4, 3)**dür.\n",
    "3. Üçüncü sual (xs.dtype) bizim arrayimizi təşkil edən elementlərin məlumat tipini bildirir. Biz arrayi yaradarkən məlumat tipini **np.int16** olaraq qeyd etdiyimiz üçün, təbii olaraq **xs.dtype** bizə **int16** verir.\n",
    "4. Dördüncü sual (xs.itemsize) bizim arrayimizi təşkil edən elementlərin hər birinin yaddaşda neçə bayt yer tutduğunu göstərir. Bizim hər bir elementimizin məlumat tipi **int16** olduğundan, hər biri yaddaşda **16 bit** yer tutur. Bilirik ki, **8 bit = 1 bayt**, və ona görə də, **16 bit = 2 bayt**."
   ]
  },
  {
   "cell_type": "markdown",
   "metadata": {},
   "source": [
    "İkinci nümunə:"
   ]
  },
  {
   "cell_type": "code",
   "execution_count": 7,
   "metadata": {},
   "outputs": [
    {
     "name": "stdout",
     "output_type": "stream",
     "text": [
      "Info:\n",
      "Array neçə ölçülüdür? \t\t\t\t\t\t\t|  3\n",
      "Arrayin ölçüləri nədir? \t\t\t\t\t\t|  (1, 1, 3)\n",
      "Arrayin elementləri hansı məlumat tipindədir? \t\t\t\t|  int32\n",
      "Arrayin elementlərinin hər biri yaddaşda neçə bayt yer tutur? \t\t|  4\n"
     ]
    }
   ],
   "source": [
    "xs = np.array([[[1, 2, 3]]])\n",
    "\n",
    "print(\"Info:\")\n",
    "print(\"Array neçə ölçülüdür? \\t\\t\\t\\t\\t\\t\\t| \", xs.ndim)\n",
    "print(\"Arrayin ölçüləri nədir? \\t\\t\\t\\t\\t\\t| \", xs.shape)\n",
    "print(\"Arrayin elementləri hansı məlumat tipindədir? \\t\\t\\t\\t| \", xs.dtype)\n",
    "print(\"Arrayin elementlərinin hər biri yaddaşda neçə bayt yer tutur? \\t\\t| \", xs.itemsize)"
   ]
  },
  {
   "cell_type": "markdown",
   "metadata": {},
   "source": [
    "#### İzah:\n",
    "1. İlk sual (xs.ndim) bizə arrayimizin neçə ölçülü olduğunu deyir. Array ona görə üçölçülüdür ki, bizim hər bir elementimiz üç arrayin içində yerləşir. Məsələn, 2 rəqəmi, eyni zamanda həm **[1, 2, 3]**, həm **[[1, 2, 3]]**, həm də **[[[1, 2, 3]]]** arrayinin içindədir.\n",
    "2. İkinci sual (xs.shape) bizə arrayin ölçülərini bildirir. Arrayimiz üçölçülü olduğu üçün, arrayimizin ölçüləri üç elementdən ibarət bir tuple-dır. Arrayin ölçüləri hesablanarkən xaricdən daxilə doğru hesablanır. Yəni, əvvəlcə ən xaricdəki array olan **[[[1, 2, 3]]]** arrayinə baxılır. Bu array 1 individual arraydən ibarətdir. Bu individual array **[[1, 2, 3]]** arrayidir, və bu array özü də 1 individual arraydən ibarətdir. Bu individual array **[1, 2, 3]** arrayidir, və o 3 elementdən ibarətdir. Buna görə də, bizim arrayimizin ölçüləri **(1, 1, 3)**dür.\n",
    "3. Üçüncü sual (xs.dtype) bizim arrayimizi təşkil edən elementlərin məlumat tipini bildirir. Biz arrayi yaradarkən məlumat tipini qeyd etmədiyimiz üçün, NumPy modulu bizim arrayimizin məlumat tipini hər ehtimal **int32** olaraq müəyyənləşdirib ki, yazacağımız məlumatların arrayə yerləşmə ehtimalı böyük olsun.\n",
    "4. Dördüncü sual (xs.itemsize) bizim arrayimizi təşkil edən elementlərin hər birinin yaddaşda neçə bayt yer tutduğunu göstərir. Bizim hər bir elementimizin məlumat tipi **int32** olduğundan, hər biri yaddaşda **32 bit** yer tutur. Bilirik ki, **8 bit = 1 bayt**, və ona görə də, **32 bit = 4 bayt**."
   ]
  },
  {
   "cell_type": "markdown",
   "metadata": {},
   "source": [
    "## İndeksləmə\n",
    "\n",
    "Bura qədər NumPy arraylərinin yaradılması, neçə ölçülü olması, ölçülərinin müəyyənləşdirilməsi, arrayi təşkil edən elementlərin məlumat tipinin müəyyənləşdirilməsi və hər bir array elementinin yaddaşda neçə bayt yer tutması haqqında öyrənmişik. NumPy arraylərindən istifadə edərkən dəqiq öyrənilməsi mühim olan konseptlərdən biri arrayin **indekslənməsi**dir. Bu konsept normal Python listlərinin indekslənməsindən bir qədər fərqlənir.\n",
    "\n",
    "Bu bölməmizdə hər dəfə yeni arraylər yaratmayacağımız üçün, aşağıdakı kodda iki obyekt yaratmışam. Bunların birincisi normal **Python listidir**, ikincisi isə **NumPy arraydir**. Hər iki obyektin elementləri eynidir."
   ]
  },
  {
   "cell_type": "code",
   "execution_count": 8,
   "metadata": {},
   "outputs": [
    {
     "name": "stdout",
     "output_type": "stream",
     "text": [
      "[[1, 2, 3, 4], [5, 6, 7, 8], [9, 10, 11, 12]]\n",
      "\n",
      "[[ 1  2  3  4]\n",
      " [ 5  6  7  8]\n",
      " [ 9 10 11 12]]\n"
     ]
    }
   ],
   "source": [
    "python_list = [[1,  2,  3,  4],\n",
    "               [5,  6,  7,  8],\n",
    "               [9, 10, 11, 12]]\n",
    "\n",
    "numpy_array = np.array([[1,  2,  3,  4],\n",
    "                        [5,  6,  7,  8],\n",
    "                        [9, 10, 11, 12]])\n",
    "\n",
    "print(python_list)\n",
    "print()\n",
    "print(numpy_array)"
   ]
  },
  {
   "cell_type": "markdown",
   "metadata": {},
   "source": [
    "Təsəvvür edək ki, 7 ədədini ekrana çap etmək istəyirik. Yəni 2ci sıra, 3cü sütunda yerləşən elementi (indekslər sıfırdan başladığı üçün, 1ci sıra, 2ci sütun olacaq)."
   ]
  },
  {
   "cell_type": "code",
   "execution_count": 9,
   "metadata": {},
   "outputs": [
    {
     "name": "stdout",
     "output_type": "stream",
     "text": [
      "7\n",
      "\n",
      "7\n"
     ]
    }
   ],
   "source": [
    "print(python_list[1][2])\n",
    "print()\n",
    "print(numpy_array[1][2])"
   ]
  },
  {
   "cell_type": "markdown",
   "metadata": {},
   "source": [
    "Görürsünüz ki, hər iki obyektdən indeksləməni eyni üsulla etdik. NumPy arraylərini Python listləri kimi indeksləmək mümkün olsa da, əksər hallarda aşağıdakı kimi indeksləmə ilə qarşılaşacaqsınız:"
   ]
  },
  {
   "cell_type": "code",
   "execution_count": 10,
   "metadata": {},
   "outputs": [
    {
     "name": "stdout",
     "output_type": "stream",
     "text": [
      "7\n"
     ]
    }
   ],
   "source": [
    "print(numpy_array[1, 2])"
   ]
  },
  {
   "cell_type": "markdown",
   "metadata": {},
   "source": [
    "Eyni indeksləməni Python listləri ilə etmək istəsək, **TypeError** çıxacaq. Aşağıdakı kodda *try-except* bloku ilə **TypeError** exceptionunu göstərmişəm:"
   ]
  },
  {
   "cell_type": "code",
   "execution_count": 11,
   "metadata": {},
   "outputs": [
    {
     "name": "stdout",
     "output_type": "stream",
     "text": [
      "Xəta: TypeError\n",
      "Xətanın məzmunu: list indices must be integers or slices, not tuple\n"
     ]
    }
   ],
   "source": [
    "try:\n",
    "    print(python_list[1, 2])\n",
    "except TypeError as te:\n",
    "    print(\"Xəta: TypeError\")\n",
    "    print(\"Xətanın məzmunu:\", te)"
   ]
  },
  {
   "cell_type": "markdown",
   "metadata": {},
   "source": [
    "Bu ona görədir ki, bu tip indeksləmə NumPy arraylərinə xas olan bir özəllikdir, və kod mənbələrində bu tip indeksləmələrlə çox qarşılaşacaqsınız.\n",
    "\n",
    "İndeksləmə vasitəsilə individual elementləri ekrana çap etməkdən əlavə, müəyyən aralıqları da ekrana çap etmək mümkündür. Məsələn, gəlin **[9, 10, 11]** aralığını ekrana çap edək. Bu aralıq 3-cü sətrin 1-ci elementindən başlayır, və 3-cü sətrin 3-cü elementində qurtarır."
   ]
  },
  {
   "cell_type": "code",
   "execution_count": 12,
   "metadata": {},
   "outputs": [
    {
     "name": "stdout",
     "output_type": "stream",
     "text": [
      "[9, 10, 11]\n",
      "\n",
      "[ 9 10 11]\n"
     ]
    }
   ],
   "source": [
    "print(python_list[2][0:3])\n",
    "print()\n",
    "print(numpy_array[2][0:3])"
   ]
  },
  {
   "cell_type": "markdown",
   "metadata": {},
   "source": [
    "Yenə də, nəticələrimiz eynidir. Lakin, eyni indeksləməni NumPy arraylərinin xüsusi indekslənmə metodu ilə də edə bilərik:"
   ]
  },
  {
   "cell_type": "code",
   "execution_count": 13,
   "metadata": {},
   "outputs": [
    {
     "name": "stdout",
     "output_type": "stream",
     "text": [
      "[ 9 10]\n"
     ]
    }
   ],
   "source": [
    "print(numpy_array[2, 0:2])"
   ]
  },
  {
   "cell_type": "markdown",
   "metadata": {},
   "source": [
    "Ola bilsin ki, bizim müraciət etmək istədiyimiz aralıq sadəcə bir deyil, bir neçə arrayin tərkibində olsun. Məsələn:\n",
    "\n",
    "[[5,  6,  7],\n",
    " [9, 10, 11]]\n",
    "\n",
    "Bu aralığa təəssüf olsun ki, python listlərindən istifadə edərək birbaşa müraciət etmək mümkün deyil. Lakin biz NumPy arraylərinə xas olan indeksləmədən istifadə edə bilərik:"
   ]
  },
  {
   "cell_type": "code",
   "execution_count": 14,
   "metadata": {},
   "outputs": [
    {
     "name": "stdout",
     "output_type": "stream",
     "text": [
      "[[ 5  6  7]\n",
      " [ 9 10 11]]\n"
     ]
    }
   ],
   "source": [
    "print(numpy_array[1:3, 0:3])"
   ]
  },
  {
   "cell_type": "markdown",
   "metadata": {},
   "source": [
    "NumPy arraylərinə xas olan indeksləmənin üstünlüyü də məhz budur. Biz istədiyimiz aralığa bu şəkildə birbaşa müraciət edə bilirik.\n",
    "\n",
    "Qeyd: **numpy_array[1:3, 0:3]** yazılışında bəzi ixtisarlar etmək mümkündü. İlk hissədə, arrayimizin 3 sırası olduğu üçün, **1:3** aralığı sadə olaraq **1:** kimi göstərilə bilər. İkinci hissədə isə, **0:3** aralığını **:3** kimi göstərmək mümkündür."
   ]
  },
  {
   "cell_type": "code",
   "execution_count": 15,
   "metadata": {},
   "outputs": [
    {
     "name": "stdout",
     "output_type": "stream",
     "text": [
      "[[ 5  6  7]\n",
      " [ 9 10 11]]\n"
     ]
    }
   ],
   "source": [
    "print(numpy_array[1:, :3])"
   ]
  },
  {
   "cell_type": "markdown",
   "metadata": {},
   "source": [
    "## Xüsusi növ arraylər\n",
    "\n",
    "Bir neçə array tipi var ki, onları proqramçı tez-tez istifadə etməyə ehtiyac duyur. Məsələn, bütünlükdə sıfırlardan, birlərdən, ixtiyari ədədlərdən və ya hər hansı başqa bir qiymətdən ibarət olan bir array. Və ya xətti cəbrdə tez-tez istifadə edilən **Identity Matrix**. Bu tip arrayləri yaratmaq üçün NumPy modulunda hazır funksiyalar mövcuddur."
   ]
  },
  {
   "cell_type": "markdown",
   "metadata": {},
   "source": [
    "#### Sıfırlardan ibarət array\n",
    "\n",
    "Bu tip arrayi yaratmaq üçün **np.zeros** və **np.zeros_like** funksiyaları bizə kömək edəcək. İki funksiya biri-birinə oxşasa da, əsas fərq ondadır ki, **np.zeros** funksiyası parametr olaraq yaradılacaq sıfırlardan ibarət arrayin **shape**-ini götürür, **np.zeros_like** isə parametr olaraq bir *numpy array* götürür, və onun **shape**-inə uyğun olan sıfırlardan ibarət bir array yaradır."
   ]
  },
  {
   "cell_type": "code",
   "execution_count": 16,
   "metadata": {},
   "outputs": [
    {
     "name": "stdout",
     "output_type": "stream",
     "text": [
      "[[0. 0. 0. 0.]\n",
      " [0. 0. 0. 0.]\n",
      " [0. 0. 0. 0.]]\n"
     ]
    }
   ],
   "source": [
    "zero_array1 = np.zeros((3, 4))\n",
    "print(zero_array1)"
   ]
  },
  {
   "cell_type": "code",
   "execution_count": 17,
   "metadata": {},
   "outputs": [
    {
     "name": "stdout",
     "output_type": "stream",
     "text": [
      "[[1 2 3]\n",
      " [4 5 6]\n",
      " [7 8 9]]\n",
      "\n",
      "[[0 0 0]\n",
      " [0 0 0]\n",
      " [0 0 0]]\n"
     ]
    }
   ],
   "source": [
    "test_array = np.array([[1, 2, 3],\n",
    "                       [4, 5, 6],\n",
    "                       [7, 8, 9]])\n",
    "zero_array2 = np.zeros_like(test_array)\n",
    "print(test_array)\n",
    "print()\n",
    "print(zero_array2)"
   ]
  },
  {
   "cell_type": "markdown",
   "metadata": {},
   "source": [
    "#### Birlərdən ibarət array\n",
    "\n",
    "Bu array eynilə *sıfırlardan ibarət array*ə bənzəyir. Tək fərq, bütün elementlərin sıfır yox, bir olmasıdı. Bunun üçün də iki funksiya mövcuddu: **np.ones** və **np.ones_like**, və bu funksiyaların iş prinsipləri də, yuxarıda qeyd etdiyim sıfır arrayi yaradan funksiyaların iş prinsipləri ilə eynidir."
   ]
  },
  {
   "cell_type": "code",
   "execution_count": 18,
   "metadata": {},
   "outputs": [
    {
     "name": "stdout",
     "output_type": "stream",
     "text": [
      "[[1. 1. 1. 1. 1.]\n",
      " [1. 1. 1. 1. 1.]\n",
      " [1. 1. 1. 1. 1.]\n",
      " [1. 1. 1. 1. 1.]\n",
      " [1. 1. 1. 1. 1.]]\n"
     ]
    }
   ],
   "source": [
    "one_array1 = np.ones((5, 5))\n",
    "print(one_array1)"
   ]
  },
  {
   "cell_type": "code",
   "execution_count": 19,
   "metadata": {},
   "outputs": [
    {
     "name": "stdout",
     "output_type": "stream",
     "text": [
      "[[1 2 3]\n",
      " [4 5 6]\n",
      " [7 8 9]]\n",
      "\n",
      "[[1 1 1]\n",
      " [1 1 1]\n",
      " [1 1 1]]\n"
     ]
    }
   ],
   "source": [
    "test_array = np.array([[1, 2, 3],\n",
    "                       [4, 5, 6],\n",
    "                       [7, 8, 9]])\n",
    "one_array2 = np.ones_like(test_array)\n",
    "print(test_array)\n",
    "print()\n",
    "print(one_array2)"
   ]
  },
  {
   "cell_type": "markdown",
   "metadata": {},
   "source": [
    "#### Məlumat tipi ilə bağlı önəmli bir məqam\n",
    "\n",
    "Fikir verirsinizsə, **np.zeros** və **np.ones** funksiyalarının bizə verdiyi arraylərdə sıfırlar və birlərdən sonra nöqtə qoyulub. Bu ona görədir ki, bu arraylərə biz məlumat tipi verməmişik, və NumPy modulu hər ehtimala qarşı bu arraylərin məlumat tipini, yəni **dtype** parametrini **np.float64** edib. Biz **np.zeros_like** və **np.ones_like** funksiyalarını işlədəndə isə, nəticədə bizə verilən arraylərin məlumat tipləri funksiyalara parametr kimi verdiyimiz arraylərin məlumat tipləri ilə üst-üstə düşür. Əgər sizin yazdığınız kodda bu arraylərdəki ədədlərin **float64** olması məcbur deyilsə, arraylərin yaddaşda daha az yer tutması üçün bu məlumat tipini dəyişə bilərsiniz. Bunun üçün sadəcə olaraq **np.zeros** və **np.ones** funksiyalarına **dtype** parametri vermək kifayətdir:"
   ]
  },
  {
   "cell_type": "code",
   "execution_count": 20,
   "metadata": {},
   "outputs": [
    {
     "name": "stdout",
     "output_type": "stream",
     "text": [
      "[[0 0 0 0]\n",
      " [0 0 0 0]\n",
      " [0 0 0 0]\n",
      " [0 0 0 0]]\n",
      "[[1 1 1 1]\n",
      " [1 1 1 1]\n",
      " [1 1 1 1]\n",
      " [1 1 1 1]]\n"
     ]
    }
   ],
   "source": [
    "zero_array3 = np.zeros((4, 4), dtype=np.int8)\n",
    "one_array3 = np.ones((4, 4), dtype=np.int8)\n",
    "print(zero_array3)\n",
    "print(one_array3)"
   ]
  },
  {
   "cell_type": "markdown",
   "metadata": {},
   "source": [
    "#### Müəyyən bir ədəddən ibarət olan array\n",
    "\n",
    "Bəzən ola bilər ki, bizə bütün elementləri müəyyən bir ədəd olan bir array lazım olsun. Bunun üçün NumPy modulunda istifadə edəbiləcəyimiz bir funksiya mövcuddu, və bu **np.full** funksiyasıdı. Bu funksiyaya parametr olaraq yaradılacaq arrayin **shape**-ini, və arrayi hansı ədədlə doldurmaq istədiyimizi qeyd etməliyik. Əgər istəsək, məlumat tipi də **dtype** parametri ilə qeyd edə bilərik.\n",
    "\n",
    "Həmçinin **np.zeros_like** və **np.ones_like** kimi, **np.full_like** funksiyası da mövcuddu."
   ]
  },
  {
   "cell_type": "code",
   "execution_count": 21,
   "metadata": {},
   "outputs": [
    {
     "name": "stdout",
     "output_type": "stream",
     "text": [
      "[[528 528 528]\n",
      " [528 528 528]\n",
      " [528 528 528]]\n"
     ]
    }
   ],
   "source": [
    "full_array1 = np.full((3, 3), 528, dtype=np.int16)\n",
    "print(full_array1)"
   ]
  },
  {
   "cell_type": "code",
   "execution_count": 22,
   "metadata": {},
   "outputs": [
    {
     "name": "stdout",
     "output_type": "stream",
     "text": [
      "[[1 2 3]\n",
      " [4 5 6]\n",
      " [7 8 9]]\n",
      "\n",
      "[[528 528 528]\n",
      " [528 528 528]\n",
      " [528 528 528]]\n"
     ]
    }
   ],
   "source": [
    "test_array = np.array([[1, 2, 3],\n",
    "                       [4, 5, 6],\n",
    "                       [7, 8, 9]])\n",
    "full_array2 = np.full_like(test_array, 528)\n",
    "print(test_array)\n",
    "print()\n",
    "print(full_array2)"
   ]
  },
  {
   "cell_type": "markdown",
   "metadata": {},
   "source": [
    "#### Identity Matrix\n",
    "\n",
    "Xətti cəbrdə hesablamalar zamanı çox zaman **Identity Matrix** adlı xüsusi tip bir arrayə ehtiyac yaranır. Bu arrayin sol üst küncü ilə sağ alt küncünü birləşdirən diaqonalı birlərdən, qalanı isə sıfırlardan ibarətdir. Bu xüsusi arrayi yaratmaq üçün **np.identity** və ya **np.eye** funksiyalarından istifadə edə bilərik. Bu iki funksiya eyni nəticəni versə də, **np.eye** funksiyası **np.identity** funksiyasına nisbətən daha kompleks əməliyyatları da icra edə bilir. Daha ətraflı öyrənmək üçün documentationa müraciət edə bilərsiniz."
   ]
  },
  {
   "cell_type": "code",
   "execution_count": 23,
   "metadata": {},
   "outputs": [
    {
     "name": "stdout",
     "output_type": "stream",
     "text": [
      "[[1. 0. 0. 0.]\n",
      " [0. 1. 0. 0.]\n",
      " [0. 0. 1. 0.]\n",
      " [0. 0. 0. 1.]]\n",
      "\n",
      "[[1. 0. 0. 0.]\n",
      " [0. 1. 0. 0.]\n",
      " [0. 0. 1. 0.]\n",
      " [0. 0. 0. 1.]]\n"
     ]
    }
   ],
   "source": [
    "identity1 = np.identity(4)\n",
    "identity2 = np.eye(4)\n",
    "\n",
    "print(identity1)\n",
    "print()\n",
    "print(identity2)"
   ]
  },
  {
   "cell_type": "markdown",
   "metadata": {},
   "source": [
    "#### İxtiyari ədədlərdən ibarət array\n",
    "\n",
    "Ola bilsin ki, biz proqram yazarkən bizə ixtiyari ədədlərdən ibarət bir array lazım olsun. Bunun üçün **np.random.rand** funksiyası, və ya **np.random.random_sample** funksiyası bizə kömək edə bilər. Tək fərq ondadır ki, **np.random.rand** funksiyası parametr olaraq yaradılacaq arrayin **shape**-ini bir-bir götürür (unpack olunmuş vəziyyətdə), **np.random.random_sample** funksiyası isə *tuple* formasında.\n",
    "\n",
    "Qeyd: Fərq vizual olaraq aydın görünsün deyə hər iki kodu bir qədər sağa çəkmişəm."
   ]
  },
  {
   "cell_type": "code",
   "execution_count": 24,
   "metadata": {},
   "outputs": [
    {
     "name": "stdout",
     "output_type": "stream",
     "text": [
      "[[0.83769258 0.06324264 0.91064933]\n",
      " [0.93778771 0.36272452 0.39525791]\n",
      " [0.40506286 0.94853776 0.40816794]]\n",
      "\n",
      "[[0.34168169 0.27862053 0.03325442]\n",
      " [0.83335868 0.08305233 0.92321792]\n",
      " [0.74096603 0.89243658 0.91227533]]\n"
     ]
    }
   ],
   "source": [
    "random_array1 =               np.random.rand(3, 3)\n",
    "random_array2 =     np.random.random_sample((3, 3))\n",
    "print(random_array1)\n",
    "print()\n",
    "print(random_array2)"
   ]
  },
  {
   "cell_type": "markdown",
   "metadata": {},
   "source": [
    "Təbii ki, bu funksiyalar bizə [0, 1) aralığında ixtiyari ədədlər qaytardığı üçün, bizə ixtiyari tam ədədlərdən ibarət array yaradan funksiya da lazım olur. Bunun üçün **np.random.randint** funksiyasından istifadə edə bilərik. Bu funksiya parametr olaraq *başlanğıc* nöqtəsi, *son nöqtəsi*, və yaradılacaq arrayin ölçüsünü götürür. Məsələn, aşağıdakı funksiya **[5, 25)** aralığında ixtiyari tam ədədlərdən ibarət olan **(4, 4)** ölçülü bir array yaradır."
   ]
  },
  {
   "cell_type": "code",
   "execution_count": 25,
   "metadata": {},
   "outputs": [
    {
     "name": "stdout",
     "output_type": "stream",
     "text": [
      "[[11 23 24 15]\n",
      " [21  6 14  7]\n",
      " [16 22 13 21]\n",
      " [18 12 14 11]]\n"
     ]
    }
   ],
   "source": [
    "randint_array = np.random.randint(5, 25, (4, 4))\n",
    "print(randint_array)"
   ]
  },
  {
   "cell_type": "markdown",
   "metadata": {},
   "source": [
    "## Riyazi əməliyyatlar.\n",
    "\n",
    "Çox zaman NumPy arrayləri ilə işləyərkən tez bir şəkildə riyazi əməliyyatları yerinə yetirə bilmək lazım gəlir. Məsələn, deyək ki, əlimizdə iki array var: **[2, 4, 6]** və **[1, 7, 9]** arrayləri. Bizə yeri gəldikdə bu iki arrayin elementlərini toplamaq, çıxmaq, vurmaq, qüvvətə yüksəltmək, bölmək, tam bölmək və qalıq tapmaq lazım gələ bilər. Bu əməliyyatları normal Python listləri ilə etməyə çalışsaq, toplama əməliyyatı zamanı listlər biri-birinin ardına birləşəcək, digər əməliyyatlar zamanı isə **TypeError** çıxacaq. Aşağıdakı kodda *try-except* bloku ilə **TypeError** exceptionunu göstərmişəm. "
   ]
  },
  {
   "cell_type": "code",
   "execution_count": 26,
   "metadata": {},
   "outputs": [
    {
     "name": "stdout",
     "output_type": "stream",
     "text": [
      "[2, 4, 6, 1, 7, 9]\n",
      "\n",
      "Xəta: TypeError\n",
      "Xətanın məzmunu: unsupported operand type(s) for -: 'list' and 'list'\n",
      "\n",
      "Xəta: TypeError\n",
      "Xətanın məzmunu: can't multiply sequence by non-int of type 'list'\n",
      "\n",
      "Xəta: TypeError\n",
      "Xətanın məzmunu: unsupported operand type(s) for ** or pow(): 'list' and 'list'\n",
      "\n",
      "Xəta: TypeError\n",
      "Xətanın məzmunu: unsupported operand type(s) for /: 'list' and 'list'\n",
      "\n",
      "Xəta: TypeError\n",
      "Xətanın məzmunu: unsupported operand type(s) for //: 'list' and 'list'\n",
      "\n",
      "Xəta: TypeError\n",
      "Xətanın məzmunu: unsupported operand type(s) for %: 'list' and 'list'\n",
      "\n"
     ]
    }
   ],
   "source": [
    "list1 = [2, 4, 6]\n",
    "list2 = [1, 7, 9]\n",
    "\n",
    "print(list1 + list2)\n",
    "print()\n",
    "\n",
    "try:\n",
    "    print(list1 - list2)\n",
    "except TypeError as te:\n",
    "    print(\"Xəta: TypeError\")\n",
    "    print(\"Xətanın məzmunu:\", te)\n",
    "print()\n",
    "\n",
    "try:\n",
    "    print(list1 * list2)\n",
    "except TypeError as te:\n",
    "    print(\"Xəta: TypeError\")\n",
    "    print(\"Xətanın məzmunu:\", te)\n",
    "print()\n",
    "\n",
    "try:\n",
    "    print(list1 ** list2)\n",
    "except TypeError as te:\n",
    "    print(\"Xəta: TypeError\")\n",
    "    print(\"Xətanın məzmunu:\", te)\n",
    "print()\n",
    "\n",
    "try:\n",
    "    print(list1 / list2)\n",
    "except TypeError as te:\n",
    "    print(\"Xəta: TypeError\")\n",
    "    print(\"Xətanın məzmunu:\", te)\n",
    "print()\n",
    "\n",
    "try:\n",
    "    print(list1 // list2)\n",
    "except TypeError as te:\n",
    "    print(\"Xəta: TypeError\")\n",
    "    print(\"Xətanın məzmunu:\", te)\n",
    "print()\n",
    "\n",
    "try:\n",
    "    print(list1 % list2)\n",
    "except TypeError as te:\n",
    "    print(\"Xəta: TypeError\")\n",
    "    print(\"Xətanın məzmunu:\", te)\n",
    "print()"
   ]
  },
  {
   "cell_type": "markdown",
   "metadata": {},
   "source": [
    "NumPy arrayləri ilə isə, bu əməliyyatların hər birini etmək mümkündür. Bu əməliyyatlar hər bir elementə uyğun olaraq tətbiq olunduğu üçün, **element-wise operation** adlanırlar. Aşağıdakı nümunədə hər birini göstərmişəm:"
   ]
  },
  {
   "cell_type": "code",
   "execution_count": 27,
   "metadata": {},
   "outputs": [
    {
     "name": "stdout",
     "output_type": "stream",
     "text": [
      "array1  +  array2 = [ 3 11 15]\n",
      "array1  -  array2 = [ 1 -3 -3]\n",
      "array1  *  array2 = [ 2 28 54]\n",
      "array1 **  array2 = [       2    16384 10077696]\n",
      "array1  /  array2 = [2.         0.57142857 0.66666667]\n",
      "array1 //  array2 = [2 0 0]\n",
      "array1  %  array2 = [0 4 6]\n"
     ]
    }
   ],
   "source": [
    "array1 = np.array([2, 4, 6])\n",
    "array2 = np.array([1, 7, 9])\n",
    "\n",
    "print(\"{} {:^3} {} = {}\".format(\"array1\", \"+\", \"array2\", str(array1 + array2)))\n",
    "print(\"{} {:^3} {} = {}\".format(\"array1\", \"-\", \"array2\", str(array1 - array2)))\n",
    "print(\"{} {:^3} {} = {}\".format(\"array1\", \"*\", \"array2\", str(array1 * array2)))\n",
    "print(\"{} {:^3} {} = {}\".format(\"array1\", \"**\", \"array2\", str(array1 ** array2)))\n",
    "print(\"{} {:^3} {} = {}\".format(\"array1\", \"/\", \"array2\", str(array1 / array2)))\n",
    "print(\"{} {:^3} {} = {}\".format(\"array1\", \"//\", \"array2\", str(array1 // array2)))\n",
    "print(\"{} {:^3} {} = {}\".format(\"array1\", \"%\", \"array2\", str(array1 % array2)))"
   ]
  },
  {
   "cell_type": "markdown",
   "metadata": {},
   "source": [
    "## Broadcasting\n",
    "\n",
    "Bəzən yazdığımız proqramda ehtiyac yaranır ki, biz istifadə etdiyimiz NumPy arrayinin hər bir elementinə müəyyən bir əməliyyatı tətbiq edək. Bu əməliyyat yüzlərlə sətirdən ibarət bir funksiya da ola bilər, sadə bir ikiyə vurma əməliyyatı da. Bu tip prosesləri daha asan və qarışıq kod yazmadan edə bilmək üçün, NumPy modulu bizə imkan yaradır ki, arraylərə **broadcasting** tətbiq edək. Yəni, bir əməliyyat arrayin bütün elementlərinə şamil olunsun. Məsələn, aşağıda bir neçə riyazi əməliyyatın necə broadcast oluna biləcəyini göstərmişəm."
   ]
  },
  {
   "cell_type": "code",
   "execution_count": 28,
   "metadata": {},
   "outputs": [],
   "source": [
    "xs = np.array([1, 2, 3, 4, 5])"
   ]
  },
  {
   "cell_type": "code",
   "execution_count": 29,
   "metadata": {},
   "outputs": [
    {
     "name": "stdout",
     "output_type": "stream",
     "text": [
      "xs  +  3 = [4 5 6 7 8]\n",
      "xs  -  3 = [-2 -1  0  1  2]\n",
      "xs  *  3 = [ 3  6  9 12 15]\n",
      "xs **  3 = [  1   8  27  64 125]\n",
      "xs  /  3 = [0.33333333 0.66666667 1.         1.33333333 1.66666667]\n",
      "xs //  3 = [0 0 1 1 1]\n",
      "xs  %  3 = [1 2 0 1 2]\n"
     ]
    }
   ],
   "source": [
    "print(\"{} {:^3} {} = {}\".format(\"xs\", \"+\", 3, str(xs + 3)))\n",
    "print(\"{} {:^3} {} = {}\".format(\"xs\", \"-\", 3, str(xs - 3)))\n",
    "print(\"{} {:^3} {} = {}\".format(\"xs\", \"*\", 3, str(xs * 3)))\n",
    "print(\"{} {:^3} {} = {}\".format(\"xs\", \"**\", 3, str(xs ** 3)))\n",
    "print(\"{} {:^3} {} = {}\".format(\"xs\", \"/\", 3, str(xs / 3)))\n",
    "print(\"{} {:^3} {} = {}\".format(\"xs\", \"//\", 3, str(xs // 3)))\n",
    "print(\"{} {:^3} {} = {}\".format(\"xs\", \"%\", 3, str(xs % 3)))"
   ]
  },
  {
   "cell_type": "markdown",
   "metadata": {},
   "source": [
    "Fikir verirsinizsə, bütün əməliyyatlar yenə də **element-wise** oldu. Yəni hər bir elementlə 3ü topladıq, hər bir elementdən 3ü çıxdıq, və s.\n",
    "\n",
    "Kod yazıb göstərmək lazımsız olsa da, bir daha qeyd etmək istəyirəm ki, bu əməliyyatlar normal Python listləri ilə mümkün deyil, və bu əməliyyatları əgər Python listləri ilə etməyə çalışsaq, yenə **TypeError** exceptionu ilə qarşılaşacayıq.\n",
    "\n",
    "Həmçinin, broadcasting əməliyyatı ilə qısaldılmış operatorlardan (+=, -=, və s.) istifadə etmək də mümkündür. Bunlardan əlavə, bütövlükdə n-ölçülü (n > 1) arrayin tərkibindəki hər hansı bir arrayə = operatoru ilə qiymət broadcast edə bilərik. Məsələn:"
   ]
  },
  {
   "cell_type": "code",
   "execution_count": 30,
   "metadata": {
    "scrolled": true
   },
   "outputs": [
    {
     "name": "stdout",
     "output_type": "stream",
     "text": [
      "Array\n",
      "[[[1 2 3 4]\n",
      "  [5 6 7 8]]\n",
      "\n",
      " [[9 8 7 6]\n",
      "  [5 4 3 2]]]\n",
      "\n",
      "Dəyişiləcək hissə:\n",
      "[[6 7]\n",
      " [4 3]]\n",
      "\n",
      "Array\n",
      "[[[1 2 3 4]\n",
      "  [5 0 0 8]]\n",
      "\n",
      " [[9 8 7 6]\n",
      "  [5 0 0 2]]]\n",
      "\n"
     ]
    }
   ],
   "source": [
    "xs = np.array([[[1, 2, 3, 4],\n",
    "                [5, 6, 7, 8]],\n",
    "              \n",
    "               [[9, 8, 7, 6],\n",
    "                [5, 4, 3, 2]]])\n",
    "print(\"Array\")\n",
    "print(xs)\n",
    "print()\n",
    "\n",
    "print(\"Dəyişiləcək hissə:\")\n",
    "print(xs[:, 1, 1:3])\n",
    "xs[:, 1, 1:3] = 0\n",
    "print()\n",
    "\n",
    "print(\"Array\")\n",
    "print(xs)\n",
    "print()"
   ]
  },
  {
   "cell_type": "markdown",
   "metadata": {},
   "source": [
    "## Vektor və Matriks əməliyyatları\n",
    "\n",
    "Bildiyiniz kimi, *Maşın öyrənmə*, *Süni intellekt*, *Data Analitikası*, və digər oxşar sahələrdə Pythondan verilən məlumatları idarə etmək üçün geniş istifadə olunur. Bu sahələrdə çalışan proqramçıların yazdıqları kodların demək olar ki, hamısında NumPy modulundan istifadə edilir. Burada məqsəd, verilən məlumatları bir arrayə yığmaq və onu tez və rahat bir şəkildə emal edə bilməkdir. Lakin bəzi hallarda NumPy arrayləri xətti cəbrdən bizə tanış olan **vektor** və **matriks**ləri təmsil edirlər. Buna görə də, ehtiyac yaranır ki, xətti cəbrdə vektorlar və matrikslər üzərində apara biləcəyimiz bir sıra əməliyyatı tez bir şəkildə NumPy modulundan istifadə edərək apara bilək. Gəlin bu əməliyyatların bəzilərinə tez bir şəkildə nəzər salaq."
   ]
  },
  {
   "cell_type": "markdown",
   "metadata": {},
   "source": [
    "#### Nöqtə Hasili (Dot Product)\n",
    "\n",
    "Vektor və Matrikslərin nöqtə hasilini tapmaq üçün NumPy modulunda olan **np.dot** funksiyasından, və ya sadəcə olaraq **@** operatorundan istifadə edə bilərik. Nümunə üçün aşağıda 3 kod göstərmişəm (vektor @ vektor, vektor @ matriks, matriks @ vektor):"
   ]
  },
  {
   "cell_type": "code",
   "execution_count": 31,
   "metadata": {},
   "outputs": [],
   "source": [
    "vector1 = np.array([1, 2, 3])\n",
    "vector2 = np.array([4, 5, 6])\n",
    "\n",
    "\n",
    "matrix1 = np.array([[1, 2, 3],\n",
    "                    [4, 5, 6],\n",
    "                    [7, 8, 9]])\n",
    "\n",
    "matrix2 = np.array([[3, 7, 1],\n",
    "                    [5, 8, 4],\n",
    "                    [1, 2, 7]])"
   ]
  },
  {
   "cell_type": "code",
   "execution_count": 32,
   "metadata": {},
   "outputs": [
    {
     "name": "stdout",
     "output_type": "stream",
     "text": [
      "vector1 @ vector2:\n",
      "32\n"
     ]
    }
   ],
   "source": [
    "print(\"vector1 @ vector2:\")\n",
    "print(vector1 @ vector2)"
   ]
  },
  {
   "cell_type": "code",
   "execution_count": 33,
   "metadata": {},
   "outputs": [
    {
     "name": "stdout",
     "output_type": "stream",
     "text": [
      "vector1 @ matrix1:\n",
      "[30 36 42]\n"
     ]
    }
   ],
   "source": [
    "print(\"vector1 @ matrix1:\")\n",
    "print(vector1 @ matrix1)"
   ]
  },
  {
   "cell_type": "code",
   "execution_count": 34,
   "metadata": {},
   "outputs": [
    {
     "name": "stdout",
     "output_type": "stream",
     "text": [
      "matrix1 @ matrix2:\n",
      "[[ 16  29  30]\n",
      " [ 43  80  66]\n",
      " [ 70 131 102]]\n"
     ]
    }
   ],
   "source": [
    "print(\"matrix1 @ matrix2:\")\n",
    "print(matrix1 @ matrix2)"
   ]
  },
  {
   "cell_type": "markdown",
   "metadata": {},
   "source": [
    "#### Outer Product\n",
    "\n",
    "Vektor və matrikslərin **outer product**-ını tapmaq üçün **np.outer** funksiyasından istifadə edə bilərik."
   ]
  },
  {
   "cell_type": "code",
   "execution_count": 35,
   "metadata": {},
   "outputs": [
    {
     "name": "stdout",
     "output_type": "stream",
     "text": [
      "[[ 4  5  6]\n",
      " [ 8 10 12]\n",
      " [12 15 18]]\n"
     ]
    }
   ],
   "source": [
    "print(np.outer(vector1, vector2))"
   ]
  },
  {
   "cell_type": "code",
   "execution_count": 36,
   "metadata": {},
   "outputs": [
    {
     "name": "stdout",
     "output_type": "stream",
     "text": [
      "[[ 1  2  3  4  5  6  7  8  9]\n",
      " [ 2  4  6  8 10 12 14 16 18]\n",
      " [ 3  6  9 12 15 18 21 24 27]]\n"
     ]
    }
   ],
   "source": [
    "print(np.outer(vector1, matrix1))"
   ]
  },
  {
   "cell_type": "code",
   "execution_count": 37,
   "metadata": {},
   "outputs": [
    {
     "name": "stdout",
     "output_type": "stream",
     "text": [
      "[[ 3  7  1  5  8  4  1  2  7]\n",
      " [ 6 14  2 10 16  8  2  4 14]\n",
      " [ 9 21  3 15 24 12  3  6 21]\n",
      " [12 28  4 20 32 16  4  8 28]\n",
      " [15 35  5 25 40 20  5 10 35]\n",
      " [18 42  6 30 48 24  6 12 42]\n",
      " [21 49  7 35 56 28  7 14 49]\n",
      " [24 56  8 40 64 32  8 16 56]\n",
      " [27 63  9 45 72 36  9 18 63]]\n"
     ]
    }
   ],
   "source": [
    "print(np.outer(matrix1, matrix2))"
   ]
  },
  {
   "cell_type": "markdown",
   "metadata": {},
   "source": [
    "#### Inverse\n",
    "\n",
    "Matrikslərin **inverse**-ünü tapmaq üçün **np.linalg.inv** funksiyasından istifadə edə bilərik."
   ]
  },
  {
   "cell_type": "code",
   "execution_count": 38,
   "metadata": {},
   "outputs": [
    {
     "name": "stdout",
     "output_type": "stream",
     "text": [
      "[[ 3.15251974e+15 -6.30503948e+15  3.15251974e+15]\n",
      " [-6.30503948e+15  1.26100790e+16 -6.30503948e+15]\n",
      " [ 3.15251974e+15 -6.30503948e+15  3.15251974e+15]]\n",
      "\n",
      "[[-0.67605634  0.66197183 -0.28169014]\n",
      " [ 0.43661972 -0.28169014  0.09859155]\n",
      " [-0.02816901 -0.01408451  0.15492958]]\n"
     ]
    }
   ],
   "source": [
    "print(np.linalg.inv(matrix1))\n",
    "print()\n",
    "print(np.linalg.inv(matrix2))"
   ]
  },
  {
   "cell_type": "markdown",
   "metadata": {},
   "source": [
    "#### Transpose\n",
    "\n",
    "Matrikslərin **transpose**-unu tapmaq üçün həm **np.transpose** funksiyasına parametr olaraq matriksi verə bilərik, həm də matriksin **T** attributundan istifadə edə bilərik."
   ]
  },
  {
   "cell_type": "code",
   "execution_count": 39,
   "metadata": {},
   "outputs": [
    {
     "name": "stdout",
     "output_type": "stream",
     "text": [
      "[[1 2 3 4 5 6]\n",
      " [7 8 9 0 1 2]]\n",
      "\n",
      "[[1 7]\n",
      " [2 8]\n",
      " [3 9]\n",
      " [4 0]\n",
      " [5 1]\n",
      " [6 2]]\n",
      "\n",
      "[[1 7]\n",
      " [2 8]\n",
      " [3 9]\n",
      " [4 0]\n",
      " [5 1]\n",
      " [6 2]]\n"
     ]
    }
   ],
   "source": [
    "matrix3 = np.array([[1, 2, 3, 4, 5, 6],\n",
    "                    [7, 8, 9, 0, 1, 2]])\n",
    "transpose_matrix1 = np.transpose(matrix3)\n",
    "transpose_matrix2 = matrix3.T\n",
    "\n",
    "print(matrix3)\n",
    "print()\n",
    "print(transpose_matrix1)\n",
    "print()\n",
    "print(transpose_matrix2)"
   ]
  },
  {
   "cell_type": "markdown",
   "metadata": {},
   "source": [
    "## NumPy modulunun işlək funksiyaları\n",
    "\n",
    "Bura qədər üstündən keçdiyimiz konseptlər demək olar ki, NumPy modulunun əsasını təşkil edir. Bunlardan əlavə olaraq, NumPy modulunda tez-tez istifadə edilən konseptlərin bir neçəsini aşağıda qeyd etmişəm."
   ]
  },
  {
   "cell_type": "markdown",
   "metadata": {},
   "source": [
    "#### Linspace\n",
    "\n",
    "**np.linspace** funksiyası NumPy modulunun ən çox istifadə edilən funksiyalarından biridir. Bu funksiya əsasən aşağıdakı formatda istifadə edilir:\n",
    "\n",
    "np.linspace(başlanğıc, son, n)\n",
    "\n",
    "Bu funksiya bizə *başlanğıc*dan *son*a qədər *n* sayda ədəddən ibarət bir NumPy arrayi verir. Arrayi təşkil edən ədədlər biri-birindən eyni məsafədə yerləşirlər. Məsələn:"
   ]
  },
  {
   "cell_type": "code",
   "execution_count": 40,
   "metadata": {},
   "outputs": [
    {
     "name": "stdout",
     "output_type": "stream",
     "text": [
      "[10. 20. 30. 40. 50.]\n"
     ]
    }
   ],
   "source": [
    "xs = np.linspace(10, 50, 5)\n",
    "print(xs)"
   ]
  },
  {
   "cell_type": "markdown",
   "metadata": {},
   "source": [
    "Gördüyünüz kimi, yuxarıdakı kodda *10* və *50* arasında *5* dənə ədəddən ibarət bir array yaradıldı. Default olaraq bu arrayin məlumat tipi **np.float64** olsa da, **np.linspace** funksiyasına əlavə parametr olaraq **dtype** da verə bilərik."
   ]
  },
  {
   "cell_type": "code",
   "execution_count": 41,
   "metadata": {},
   "outputs": [
    {
     "name": "stdout",
     "output_type": "stream",
     "text": [
      "[10 20 30 40 50]\n"
     ]
    }
   ],
   "source": [
    "xs = np.linspace(10, 50, 5, dtype=np.int8)\n",
    "print(xs)"
   ]
  },
  {
   "cell_type": "markdown",
   "metadata": {},
   "source": [
    "#### Multiple indexing\n",
    "\n",
    "Öyrəndik ki, arrayin həm tək elementini, həm də müəyyən aralığını indeksləyə bilirik. Bundan əlavə, eyni anda çoxlu elementini də götürə bilərik. Məsələn, ola bilsin ki, **[5, 8, 7, 11, 36, 92, 45]** arrayinin **[1, 2, 4]** indeksləri bizə lazım olsun. Aşağıdakı kod bunu necə edə biləcəyimizi göstərir."
   ]
  },
  {
   "cell_type": "code",
   "execution_count": 42,
   "metadata": {},
   "outputs": [
    {
     "name": "stdout",
     "output_type": "stream",
     "text": [
      "[ 8  7 36]\n"
     ]
    }
   ],
   "source": [
    "xs = np.array([5, 8, 7, 11, 36, 92, 45])\n",
    "indices = [1, 2, 4]\n",
    "print(xs[indices])"
   ]
  },
  {
   "cell_type": "markdown",
   "metadata": {},
   "source": [
    "Gördüyünüz kimi, indekslərdən ibarət olan listdən istifadə edərək arrayimizi indeksləyə bilərik."
   ]
  },
  {
   "cell_type": "markdown",
   "metadata": {},
   "source": [
    "#### Boolean indexing\n",
    "\n",
    "İndekslərdən ibarət listdən istifadə edərək arrayimizi indeksləməkdən əlavə, **True** və **False** qiymətlərdən ibarət bir listdən istifadə edərək də arrayimizi indeksləyə bilərik. Məsələn:"
   ]
  },
  {
   "cell_type": "code",
   "execution_count": 43,
   "metadata": {},
   "outputs": [
    {
     "name": "stdout",
     "output_type": "stream",
     "text": [
      "[ 8  7 36]\n"
     ]
    }
   ],
   "source": [
    "xs = np.array([5, 8, 7, 11, 36, 92, 45])\n",
    "boolean_indices = [False, True, True, False, True, False, False]\n",
    "print(xs[boolean_indices])"
   ]
  },
  {
   "cell_type": "markdown",
   "metadata": {},
   "source": [
    "#### Boolean operatorların broadcast edilməsi\n",
    "\n",
    "**Boolean indexing** bir problem yaranır: həddindən artıq uzun arrayləri bu şəkildə indeksləmək heç də əlverişli deyil. Bir-bir **boolean_indices** arrayinə **True** və **False** yazmaq çox uzun zaman çəkir. Buna görə də, **boolean operator**ları **broadcast** edərək **boolean_indices** arrayini qısa bir şəkildə ala bilərik."
   ]
  },
  {
   "cell_type": "code",
   "execution_count": 44,
   "metadata": {},
   "outputs": [
    {
     "name": "stdout",
     "output_type": "stream",
     "text": [
      "[False  True False False  True  True False]\n",
      "[10 26  9]\n"
     ]
    }
   ],
   "source": [
    "xs = np.array([3, 10, 4, 1, 26, 9, 4])\n",
    "boolean_indices = xs > 5\n",
    "print(boolean_indices)\n",
    "print(xs[boolean_indices])"
   ]
  },
  {
   "cell_type": "markdown",
   "metadata": {},
   "source": [
    "Aşağıda boolean operatorların broadcast edilməsini daha aydın göstərmişəm."
   ]
  },
  {
   "cell_type": "code",
   "execution_count": 45,
   "metadata": {},
   "outputs": [
    {
     "name": "stdout",
     "output_type": "stream",
     "text": [
      "xs     : [5 8 4 3 1 6 9 2]\n",
      "xs >  5: [False  True False False False  True  True False]\n",
      "xs <  5: [False False  True  True  True False False  True]\n",
      "xs >= 5: [ True  True False False False  True  True False]\n",
      "xs <= 5: [ True False  True  True  True False False  True]\n",
      "xs == 5: [ True False False False False False False False]\n",
      "xs != 5: [False  True  True  True  True  True  True  True]\n"
     ]
    }
   ],
   "source": [
    "xs = np.array([5, 8, 4, 3, 1, 6, 9, 2])\n",
    "\n",
    "print(\"xs     :\", xs)\n",
    "print(\"xs >  5:\", xs > 5)\n",
    "print(\"xs <  5:\", xs < 5)\n",
    "print(\"xs >= 5:\", xs >= 5)\n",
    "print(\"xs <= 5:\", xs <= 5)\n",
    "print(\"xs == 5:\", xs == 5)\n",
    "print(\"xs != 5:\", xs != 5)"
   ]
  },
  {
   "cell_type": "markdown",
   "metadata": {},
   "source": [
    "#### Where\n",
    "\n",
    "Bəzən bizə bütövlükdə arrayin özü yox, müəyyən şərti ödəyən elementlərinin indeksləri lazım olur. Məsələn, **[30, 4, 15, 44, 23, 52]** arrayində bizə 25dən böyük ədədlər lazım ola bilər. Bu elementlərin indekslərini tapmaq üçün **np.where** funksiyası bizə kömək edir."
   ]
  },
  {
   "cell_type": "code",
   "execution_count": 46,
   "metadata": {},
   "outputs": [
    {
     "name": "stdout",
     "output_type": "stream",
     "text": [
      "(array([0, 3, 5], dtype=int64),)\n",
      "[30 44 52]\n"
     ]
    }
   ],
   "source": [
    "xs = np.array([30, 4, 15, 44, 23, 52])\n",
    "indices = np.where(xs > 25)\n",
    "print(indices)\n",
    "print(xs[indices])"
   ]
  },
  {
   "cell_type": "markdown",
   "metadata": {},
   "source": [
    "#### Allclose\n",
    "\n",
    "Riyaziyyat nə qədər dəqiq elm olsa da, bütün riyazi əməliyyatlarla hər hansı məsələni 100% dəqiqliklə həll etmək mümkün deyil. Həmişə, mütləq alınan cavabla real cavab biri-birindən cüzi də olsa fərqlənir. Bunun əsas səbəbi Pythonda kəsr ədədlərin yaddaşda saxlanılması üsuludu. Əgər iki arrayin tam bərabər olmasa da, biri-birinə kifayət qədər yaxın olduğunu bilmək istəsək, **np.allclose** funksiyasını işlədə bilərik. Bu funksiya parametr olaraq müqayisə ediləcək iki arrayi, və əlavə olaraq **rtol** və **atol** parametrlərini, yəni arraylərin nə qədər yaxın olmasının kifayət olduğunu götürür. Əgər **rtol** və **atol** parametrlərinə heç bir qiymət verməsək, default olaraq **rtol=1e-05** və **atol=1e-08** götürülür. Funksiya aşağıdakı kimi işləyir:\n",
    "\n",
    "np.allclose(a, b, rtol, atol)\n",
    "\n",
    "Arxa planda *a* və *b* arraylərinin bütün elementləri üçün aşağıdakı yoxlanış keçirilir:\n",
    "\n",
    "|a - b| <= atol + rtol * |b|\n",
    "\n",
    "Əgər bütün yoxlanışların nəticəsi **True** olarsa nəticə **True**, əks halda **False** olur."
   ]
  },
  {
   "cell_type": "code",
   "execution_count": 47,
   "metadata": {},
   "outputs": [
    {
     "name": "stdout",
     "output_type": "stream",
     "text": [
      "True\n"
     ]
    }
   ],
   "source": [
    "a = np.array([2.530001, 4.3, 25.2199953, 2])\n",
    "b = np.array([2.53, 4.299993, 25.22, 1.999999])\n",
    "rtol = 0.0001\n",
    "atol = 0.000000001\n",
    "\n",
    "result = np.allclose(a, b, rtol, atol)\n",
    "print(result)"
   ]
  },
  {
   "cell_type": "markdown",
   "metadata": {},
   "source": [
    "#### Reshape\n",
    "\n",
    "Bəzən əlimizdə olan arrayin ölçüləri bizim istədiyimiz kimi olmadığından, onun **shape**-ini dəyişməli oluruq. Bunun üçün **np.reshape** methodu mövcuddur. Aşağıdakı nümunədə bunu göstərmək üçün 18 elementdən ibarət birölçülü array yaradıram. Daha sonra isə, onu (6, 3) shape-ində olan ikiölçülü arrayə çevirirəm."
   ]
  },
  {
   "cell_type": "code",
   "execution_count": 48,
   "metadata": {},
   "outputs": [
    {
     "name": "stdout",
     "output_type": "stream",
     "text": [
      "[  1.           6.82352941  12.64705882  18.47058824  24.29411765\n",
      "  30.11764706  35.94117647  41.76470588  47.58823529  53.41176471\n",
      "  59.23529412  65.05882353  70.88235294  76.70588235  82.52941176\n",
      "  88.35294118  94.17647059 100.        ]\n",
      "\n",
      "[[  1.           6.82352941  12.64705882]\n",
      " [ 18.47058824  24.29411765  30.11764706]\n",
      " [ 35.94117647  41.76470588  47.58823529]\n",
      " [ 53.41176471  59.23529412  65.05882353]\n",
      " [ 70.88235294  76.70588235  82.52941176]\n",
      " [ 88.35294118  94.17647059 100.        ]]\n"
     ]
    }
   ],
   "source": [
    "xs = np.linspace(1, 100, 18)\n",
    "reshaped_xs = np.reshape(xs, (6, 3))\n",
    "\n",
    "print(xs)\n",
    "print()\n",
    "print(reshaped_xs)"
   ]
  },
  {
   "cell_type": "markdown",
   "metadata": {},
   "source": [
    "Burada əlavə bir məqam var. Arrayimiz 18 elementdən ibarət olduğu üçün, ölçülərinin hasilinin 18 etməli olduğunu bilirik. Arrayin ölçüsü 18 yox, daha kompleks bir ədəd olsa, biz onu asanlıqla reshape edə bilməyəcəyik. Gərək yeni shape-in ölçülərini özümüz hesablayaq. Məsələn:"
   ]
  },
  {
   "cell_type": "code",
   "execution_count": 49,
   "metadata": {},
   "outputs": [
    {
     "name": "stdout",
     "output_type": "stream",
     "text": [
      "[1.00000e+00 2.00000e+00 3.00000e+00 ... 4.08182e+05 4.08183e+05\n",
      " 4.08184e+05]\n",
      "\n",
      "[[1.00000e+00 2.00000e+00 3.00000e+00 ... 5.00000e+00 6.00000e+00\n",
      "  7.00000e+00]\n",
      " [8.00000e+00 9.00000e+00 1.00000e+01 ... 1.20000e+01 1.30000e+01\n",
      "  1.40000e+01]\n",
      " [1.50000e+01 1.60000e+01 1.70000e+01 ... 1.90000e+01 2.00000e+01\n",
      "  2.10000e+01]\n",
      " ...\n",
      " [4.08164e+05 4.08165e+05 4.08166e+05 ... 4.08168e+05 4.08169e+05\n",
      "  4.08170e+05]\n",
      " [4.08171e+05 4.08172e+05 4.08173e+05 ... 4.08175e+05 4.08176e+05\n",
      "  4.08177e+05]\n",
      " [4.08178e+05 4.08179e+05 4.08180e+05 ... 4.08182e+05 4.08183e+05\n",
      "  4.08184e+05]]\n"
     ]
    }
   ],
   "source": [
    "xs = np.linspace(1, 408184, 408184)\n",
    "\n",
    "shape_0 = 408184 // 7\n",
    "new_shape = (shape_0, 7)\n",
    "\n",
    "reshaped_xs = np.reshape(xs, new_shape)\n",
    "\n",
    "print(xs)\n",
    "print()\n",
    "print(reshaped_xs)"
   ]
  },
  {
   "cell_type": "markdown",
   "metadata": {},
   "source": [
    "Burada bizim etdiyimiz əməliyyatlar bir qədər kodu qarışdırır. Biz istəyirik ki, 7 sütundan ibarət bir arrayə çevirək arrayimizi. Lakin bunun üçün 408184 ədədini 7yə bölüb digər ölçünü də tapmalı oluruq. NumPy bizə icazə verir ki, bunun əvəzinə sadəcə olaraq -1 yazaq. Yəni yekun kodumuz aşağıdakı sadə formasını alacaq:"
   ]
  },
  {
   "cell_type": "code",
   "execution_count": 50,
   "metadata": {},
   "outputs": [
    {
     "name": "stdout",
     "output_type": "stream",
     "text": [
      "[1.00000e+00 2.00000e+00 3.00000e+00 ... 4.08182e+05 4.08183e+05\n",
      " 4.08184e+05]\n",
      "\n",
      "[[1.00000e+00 2.00000e+00 3.00000e+00 ... 5.00000e+00 6.00000e+00\n",
      "  7.00000e+00]\n",
      " [8.00000e+00 9.00000e+00 1.00000e+01 ... 1.20000e+01 1.30000e+01\n",
      "  1.40000e+01]\n",
      " [1.50000e+01 1.60000e+01 1.70000e+01 ... 1.90000e+01 2.00000e+01\n",
      "  2.10000e+01]\n",
      " ...\n",
      " [4.08164e+05 4.08165e+05 4.08166e+05 ... 4.08168e+05 4.08169e+05\n",
      "  4.08170e+05]\n",
      " [4.08171e+05 4.08172e+05 4.08173e+05 ... 4.08175e+05 4.08176e+05\n",
      "  4.08177e+05]\n",
      " [4.08178e+05 4.08179e+05 4.08180e+05 ... 4.08182e+05 4.08183e+05\n",
      "  4.08184e+05]]\n"
     ]
    }
   ],
   "source": [
    "xs = np.linspace(1, 408184, 408184)\n",
    "reshaped_xs = np.reshape(xs, (-1, 7))\n",
    "\n",
    "print(xs)\n",
    "print()\n",
    "print(reshaped_xs)"
   ]
  },
  {
   "cell_type": "markdown",
   "metadata": {},
   "source": [
    "#### Sort, Min, Max\n",
    "\n",
    "Pythonda adi listlərdə olduğu kimi, NumPy arrayləri üçün də **sort, min, max** funksionallıqları mövcuddur."
   ]
  },
  {
   "cell_type": "code",
   "execution_count": 51,
   "metadata": {},
   "outputs": [
    {
     "name": "stdout",
     "output_type": "stream",
     "text": [
      "[ 2 16  8 34 12 62 63  5]\n"
     ]
    }
   ],
   "source": [
    "xs = np.array([2, 16, 8, 34, 12, 62, 63, 5])\n",
    "print(xs)"
   ]
  },
  {
   "cell_type": "code",
   "execution_count": 52,
   "metadata": {},
   "outputs": [
    {
     "name": "stdout",
     "output_type": "stream",
     "text": [
      "Sorted: [ 2  5  8 12 16 34 62 63]\n",
      "Max: 63\n",
      "Min: 2\n"
     ]
    }
   ],
   "source": [
    "sorted_xs = np.sort(xs)\n",
    "max_xs = np.max(xs)\n",
    "min_xs = np.min(xs)\n",
    "\n",
    "print(\"Sorted:\", sorted_xs)\n",
    "print(\"Max:\", max_xs)\n",
    "print(\"Min:\", min_xs)"
   ]
  },
  {
   "cell_type": "markdown",
   "metadata": {},
   "source": [
    "#### Argsort, Argmin, Argmax\n",
    "\n",
    "Bəzi hallarda arrayin özü ilə deyil, indeksləri ilə işləmək lazım olur. Bunun üçün də, **argsort, argmin, argmax** funksionallıqları bizə kömək edə bilər. Bu üç funksiyanın işləmə prinsipi **sort, min, max** ilə eynidir, sadəcə olaraq bizə arrayin öz elementlərini deyil, elementlərin indekslərini verir."
   ]
  },
  {
   "cell_type": "code",
   "execution_count": 53,
   "metadata": {},
   "outputs": [
    {
     "name": "stdout",
     "output_type": "stream",
     "text": [
      "[ 2 16  8 34 12 62 63  5]\n"
     ]
    }
   ],
   "source": [
    "xs = np.array([2, 16, 8, 34, 12, 62, 63, 5])\n",
    "print(xs)"
   ]
  },
  {
   "cell_type": "code",
   "execution_count": 54,
   "metadata": {},
   "outputs": [
    {
     "name": "stdout",
     "output_type": "stream",
     "text": [
      "Arg sort: [0 7 2 4 1 3 5 6]\n",
      "Arg max: 6\n",
      "Arg min: 0\n"
     ]
    }
   ],
   "source": [
    "argsorted_xs = np.argsort(xs)\n",
    "argmax_xs = np.argmax(xs)\n",
    "argmin_xs = np.argmin(xs)\n",
    "\n",
    "print(\"Arg sort:\", argsorted_xs)\n",
    "print(\"Arg max:\", argmax_xs)\n",
    "print(\"Arg min:\", argmin_xs)"
   ]
  },
  {
   "cell_type": "markdown",
   "metadata": {},
   "source": [
    "Bu indekslərdən istifadə edərək arrayin elementlərini də götürmək mümkündür."
   ]
  },
  {
   "cell_type": "code",
   "execution_count": 55,
   "metadata": {},
   "outputs": [
    {
     "name": "stdout",
     "output_type": "stream",
     "text": [
      "Sorted: [ 2  5  8 12 16 34 62 63]\n",
      "Max: 63\n",
      "Min: 2\n"
     ]
    }
   ],
   "source": [
    "print(\"Sorted:\", xs[argsorted_xs])\n",
    "print(\"Max:\", xs[argmax_xs])\n",
    "print(\"Min:\", xs[argmin_xs])"
   ]
  },
  {
   "cell_type": "markdown",
   "metadata": {},
   "source": [
    "## Yekun\n",
    "\n",
    "NumPy modulunun bütün incəliklərini bir dəfəyə əhatə etmək mümkün olmasa da, ümid edirəm ki, əsas məqamları diqqətə çatdıra bildim. Yeni öyrənənlərə bu notebookda olan bütün konseptləri bir neçə dəfə oxumağı və ayrı bir Jupyter Notebookda test etməyi tövsiyə edirəm. Bütün konseptləri tam qavradığınıza əmin olduqdan sonra aşağıdakı GitHub linkində yerləşən çalışmalar tapa bilərsiniz.\n",
    "\n",
    "https://github.com/hseysen/python/blob/master/mod%C3%BCll%C9%99r/numpy/NumPy_exercise.ipynb\n",
    "\n",
    "Əgər yazılı izahlarda hər hansı bir çətinliyiniz olsa, CIK ACADEMY YouTube kanalından bu modul barədə olan dərsin videosuna baxa bilərsiniz. Videoda bu Jupyter Notebook üzərindən izah verirəm. Bu kimi dərslərin davamı üçün kanala abunə olub, videonu bəyənsəniz, minnətdar olaram."
   ]
  }
 ],
 "metadata": {
  "kernelspec": {
   "display_name": "Python 3",
   "language": "python",
   "name": "python3"
  },
  "language_info": {
   "codemirror_mode": {
    "name": "ipython",
    "version": 3
   },
   "file_extension": ".py",
   "mimetype": "text/x-python",
   "name": "python",
   "nbconvert_exporter": "python",
   "pygments_lexer": "ipython3",
   "version": "3.7.6"
  }
 },
 "nbformat": 4,
 "nbformat_minor": 4
}
